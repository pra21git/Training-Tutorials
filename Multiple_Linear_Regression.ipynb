{
  "nbformat": 4,
  "nbformat_minor": 0,
  "metadata": {
    "colab": {
      "name": "Multiple Linear Regression.ipynb",
      "provenance": [],
      "private_outputs": true,
      "collapsed_sections": [],
      "toc_visible": true,
      "include_colab_link": true
    },
    "kernelspec": {
      "name": "python3",
      "display_name": "Python 3"
    },
    "accelerator": "GPU"
  },
  "cells": [
    {
      "cell_type": "markdown",
      "metadata": {
        "id": "view-in-github",
        "colab_type": "text"
      },
      "source": [
        "<a href=\"https://colab.research.google.com/github/pra21ojha/Training-Tutorials/blob/master/Multiple_Linear_Regression.ipynb\" target=\"_parent\"><img src=\"https://colab.research.google.com/assets/colab-badge.svg\" alt=\"Open In Colab\"/></a>"
      ]
    },
    {
      "cell_type": "markdown",
      "metadata": {
        "id": "Tv_va_gbeQUZ",
        "colab_type": "text"
      },
      "source": [
        "# Multiple Linear Regression\n",
        "\n"
      ]
    },
    {
      "cell_type": "code",
      "metadata": {
        "id": "mGmYOk57s-YT",
        "colab_type": "code",
        "colab": {}
      },
      "source": [
        "import numpy as np\n",
        "import pandas as pd\n",
        "import matplotlib.pyplot as plt\n",
        "import pandas as pd\n",
        "import io"
      ],
      "execution_count": 0,
      "outputs": []
    },
    {
      "cell_type": "code",
      "metadata": {
        "id": "sMNHFsrLtdo3",
        "colab_type": "code",
        "colab": {}
      },
      "source": [
        "#Open file from Local\n",
        "\n",
        "from google.colab import files\n",
        "\n",
        "uploaded = files.upload()\n",
        "\n",
        "for fn in uploaded.keys():\n",
        "  print('User uploaded file \"{name}\" with length {length} bytes'.format(\n",
        "      name=fn, length=len(uploaded[fn])))"
      ],
      "execution_count": 0,
      "outputs": []
    },
    {
      "cell_type": "code",
      "metadata": {
        "id": "Hxp3-AqVttPj",
        "colab_type": "code",
        "colab": {}
      },
      "source": [
        "# Importing the dataset\n",
        "dataset = pd.read_csv(io.StringIO(uploaded['50_Startups.csv'].decode('utf-8')))\n",
        "print(dataset)\n",
        "X = dataset.iloc[:, 1:2].values\n",
        "y = dataset.iloc[:, 2].values\n"
      ],
      "execution_count": 0,
      "outputs": []
    },
    {
      "cell_type": "code",
      "metadata": {
        "id": "HNmMbywpy-l7",
        "colab_type": "code",
        "colab": {}
      },
      "source": [
        "# Fitting Linear Regression to the dataset\n",
        "from sklearn.linear_model import LinearRegression\n",
        "lin_reg = LinearRegression()\n",
        "lin_reg.fit(X, y)\n"
      ],
      "execution_count": 0,
      "outputs": []
    },
    {
      "cell_type": "code",
      "metadata": {
        "id": "ygV2z-uczMoh",
        "colab_type": "code",
        "colab": {}
      },
      "source": [
        "# Fitting Polynomial Regression to the dataset\n",
        "from sklearn.preprocessing import PolynomialFeatures\n",
        "poly_reg = PolynomialFeatures(degree = 4)\n",
        "X_poly = poly_reg.fit_transform(X)\n",
        "poly_reg.fit(X_poly, y)\n",
        "lin_reg_2 = LinearRegression()\n",
        "lin_reg_2.fit(X_poly, y)\n"
      ],
      "execution_count": 0,
      "outputs": []
    },
    {
      "cell_type": "code",
      "metadata": {
        "id": "qMC55DBtzQpJ",
        "colab_type": "code",
        "colab": {}
      },
      "source": [
        "# Visualising the Linear Regression results\n",
        "plt.scatter(X, y, color = 'red')\n",
        "plt.plot(X, lin_reg.predict(X), color = 'blue')\n",
        "plt.title('Truth or Bluff (Linear Regression)')\n",
        "plt.xlabel('Position level')\n",
        "plt.ylabel('Salary')\n",
        "plt.show()"
      ],
      "execution_count": 0,
      "outputs": []
    },
    {
      "cell_type": "code",
      "metadata": {
        "id": "n7kHGooOzUCN",
        "colab_type": "code",
        "colab": {}
      },
      "source": [
        "\n",
        "# Visualising the Polynomial Regression results\n",
        "plt.scatter(X, y, color = 'red')\n",
        "plt.plot(X, lin_reg_2.predict(poly_reg.fit_transform(X)), color = 'blue')\n",
        "plt.title('Truth or Bluff (Polynomial Regression)')\n",
        "plt.xlabel('Position level')\n",
        "plt.ylabel('Salary')\n",
        "plt.show()"
      ],
      "execution_count": 0,
      "outputs": []
    },
    {
      "cell_type": "code",
      "metadata": {
        "id": "-HVryUFVzVhu",
        "colab_type": "code",
        "colab": {}
      },
      "source": [
        "# Visualising the Polynomial Regression results (for higher resolution and smoother curve)\n",
        "X_grid = np.arange(min(X), max(X), 0.1)\n",
        "X_grid = X_grid.reshape((len(X_grid), 1))\n",
        "plt.scatter(X, y, color = 'red')\n",
        "plt.plot(X_grid, lin_reg_2.predict(poly_reg.fit_transform(X_grid)), color = 'blue')\n",
        "plt.title('Truth or Bluff (Polynomial Regression)')\n",
        "plt.xlabel('Position level')\n",
        "plt.ylabel('Salary')\n",
        "plt.show()\n"
      ],
      "execution_count": 0,
      "outputs": []
    },
    {
      "cell_type": "code",
      "metadata": {
        "id": "fZZ_dMcazh8g",
        "colab_type": "code",
        "colab": {}
      },
      "source": [
        "# Predicting a new result with Linear Regression\n",
        "print(lin_reg.predict([[6.5]]))\n",
        "\n",
        "# Predicting a new result with Polynomial Regression\n",
        "print(lin_reg_2.predict(poly_reg.fit_transform([[6.5]])))"
      ],
      "execution_count": 0,
      "outputs": []
    }
  ]
}