{
  "nbformat": 4,
  "nbformat_minor": 0,
  "metadata": {
    "colab": {
      "name": "Test_01.ipynb",
      "provenance": [],
      "toc_visible": true,
      "include_colab_link": true
    },
    "kernelspec": {
      "name": "python3",
      "display_name": "Python 3"
    }
  },
  "cells": [
    {
      "cell_type": "markdown",
      "metadata": {
        "id": "view-in-github",
        "colab_type": "text"
      },
      "source": [
        "<a href=\"https://colab.research.google.com/github/pra21ojha/Training-Tutorials/blob/master/Test_01.ipynb\" target=\"_parent\"><img src=\"https://colab.research.google.com/assets/colab-badge.svg\" alt=\"Open In Colab\"/></a>"
      ]
    },
    {
      "cell_type": "code",
      "metadata": {
        "id": "Stap6CjyRxGy",
        "colab_type": "code",
        "colab": {}
      },
      "source": [
        ""
      ],
      "execution_count": 0,
      "outputs": []
    },
    {
      "cell_type": "markdown",
      "metadata": {
        "id": "rHUC-NRTYkGU",
        "colab_type": "text"
      },
      "source": [
        "# Test-01\n"
      ]
    },
    {
      "cell_type": "code",
      "metadata": {
        "id": "4_eu8mbUYqpy",
        "colab_type": "code",
        "outputId": "f690b2df-a577-4f6d-9e4a-a0f69ed7adbe",
        "colab": {
          "base_uri": "https://localhost:8080/",
          "height": 68
        }
      },
      "source": [
        "x=int(input('Enter x'))\n",
        "y=int(input('Enter y'))\n",
        "z=x+y\n",
        "print(z)"
      ],
      "execution_count": 0,
      "outputs": [
        {
          "output_type": "stream",
          "text": [
            "Enter x10\n",
            "Enter y10\n",
            "20\n"
          ],
          "name": "stdout"
        }
      ]
    },
    {
      "cell_type": "code",
      "metadata": {
        "id": "_tNHzLnGbjCQ",
        "colab_type": "code",
        "colab": {}
      },
      "source": [
        "class c1:\n",
        "  method_1(self):\n",
        "      \n",
        "\n"
      ],
      "execution_count": 0,
      "outputs": []
    }
  ]
}